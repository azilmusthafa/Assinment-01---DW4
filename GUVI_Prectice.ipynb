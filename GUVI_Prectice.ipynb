{
  "nbformat": 4,
  "nbformat_minor": 0,
  "metadata": {
    "colab": {
      "name": "GUVI_Prectice.ipynb",
      "provenance": [],
      "authorship_tag": "ABX9TyNNwOHRo/aB5mn79pISt3Uw",
      "include_colab_link": true
    },
    "kernelspec": {
      "name": "python3",
      "display_name": "Python 3"
    },
    "language_info": {
      "name": "python"
    }
  },
  "cells": [
    {
      "cell_type": "markdown",
      "metadata": {
        "id": "view-in-github",
        "colab_type": "text"
      },
      "source": [
        "<a href=\"https://colab.research.google.com/github/azilmusthafa/Assinment-01---DW4/blob/main/GUVI_Prectice.ipynb\" target=\"_parent\"><img src=\"https://colab.research.google.com/assets/colab-badge.svg\" alt=\"Open In Colab\"/></a>"
      ]
    },
    {
      "cell_type": "code",
      "source": [
        "!python - v"
      ],
      "metadata": {
        "id": "51K6Ph0HipTy"
      },
      "execution_count": null,
      "outputs": []
    },
    {
      "cell_type": "code",
      "source": [
        ""
      ],
      "metadata": {
        "id": "UVWaNzBuAyat"
      },
      "execution_count": null,
      "outputs": []
    },
    {
      "cell_type": "code",
      "source": [
        "!pwd"
      ],
      "metadata": {
        "id": "Kqb4hMvhjMMB",
        "colab": {
          "base_uri": "https://localhost:8080/"
        },
        "outputId": "a23003d3-6a62-47c6-9fc0-526c8558f759"
      },
      "execution_count": null,
      "outputs": [
        {
          "output_type": "stream",
          "name": "stdout",
          "text": [
            "/content\n"
          ]
        }
      ]
    },
    {
      "cell_type": "code",
      "source": [
        "print (1+1)"
      ],
      "metadata": {
        "id": "4aA4nVthlCUp"
      },
      "execution_count": null,
      "outputs": []
    },
    {
      "cell_type": "code",
      "source": [
        "!ls"
      ],
      "metadata": {
        "id": "B1TCmOp6ikDc"
      },
      "execution_count": null,
      "outputs": []
    },
    {
      "cell_type": "code",
      "execution_count": null,
      "metadata": {
        "id": "DjKU4yzqB0Zk"
      },
      "outputs": [],
      "source": [
        "print(\"Hellow\")\n",
        "\n",
        "\n",
        "import this "
      ]
    },
    {
      "cell_type": "markdown",
      "source": [
        "**Assignment-01**\n"
      ],
      "metadata": {
        "id": "YcmTiBnqbdas"
      }
    },
    {
      "cell_type": "code",
      "source": [
        "fname= input(\"Enter First Name : \")\n",
        "if True==(fname.istitle()):\n",
        "  lname= input(\"Last Last name : \")\n",
        "  if True==(lname.istitle()):\n",
        "    mob=input(\"Enter Mobile No : \")\n",
        "    if True==mob.isdigit() and 10==len(mob):\n",
        "      email=input(\"Enter Your Email :\")\n",
        "      if False==email.lower():\n",
        "        print(\"email shoud be in lower-case letters\")\n",
        "      elif email==email.endswith(\"mail.com\"):\n",
        "        print(\"You succesfull entered\")\n",
        "      elif 0==email.count(\"@\"):\n",
        "        print(\" your email address missing some character\")\n",
        "      else:\n",
        "        print(\"You have succesfully entered\")\n",
        "    \n",
        "    else:\n",
        "      print(\"Your mobile number shoud be 10 numbers And Star with 0\")\n",
        "  \n",
        "  else:\n",
        "    print(\"Enter your name with starting capital letter Ex: Ravi\")\n",
        "\n",
        "else:\n",
        "  print(\"Enter your name with starting capital letter Ex: Ravi\")\n"
      ],
      "metadata": {
        "id": "yyhp4zl0VaqX",
        "colab": {
          "base_uri": "https://localhost:8080/"
        },
        "outputId": "696aea26-952e-4551-8501-170daef77245"
      },
      "execution_count": null,
      "outputs": [
        {
          "name": "stdout",
          "output_type": "stream",
          "text": [
            "Enter First Name : Af\n",
            "Last Last name : Wd\n",
            "Enter Mobile No : 4772214469\n"
          ]
        }
      ]
    },
    {
      "cell_type": "code",
      "source": [
        "sntm = input()\n",
        "tem  = int(input())\n",
        "\n",
        "if sntm==\"FR\":\n",
        "  print(\"go to hospital\")\n",
        "elif sntm==\"CF\":\n",
        "  if tem>10:\n",
        "    print(\"he fast to hospital\")\n",
        "  else:\n",
        "    print(\"just go to hospital\")\n",
        "else:\n",
        "  print (\"Be Relex\")\n",
        "\n"
      ],
      "metadata": {
        "id": "D7PsPI07diuB"
      },
      "execution_count": null,
      "outputs": []
    },
    {
      "cell_type": "code",
      "source": [
        "sym= input()\n",
        "rtp= int (input())\n",
        "codis= input()\n",
        "\n",
        "if sym==\"high\":\n",
        "  print(\"go rtpcr\")\n",
        "  if rtp>35:\n",
        "     print(\"go hospital and CT scan\")\n",
        "     if codis==\"Yes\":\n",
        "        print(\"put him in ICU\")\n",
        "     else:\n",
        "       print(\"put them in gen word\")\n",
        "  else:\n",
        "     print(\"go for self isolate\")  \n",
        "else:\n",
        "  print(\"get some medi and go home\")\n",
        " \n",
        "\n"
      ],
      "metadata": {
        "id": "xJFZd9N5mzu2"
      },
      "execution_count": null,
      "outputs": []
    },
    {
      "cell_type": "markdown",
      "source": [
        "**File Hendling**"
      ],
      "metadata": {
        "id": "qzh973Xzb8NU"
      }
    },
    {
      "cell_type": "code",
      "source": [
        "# creating Derectory(Filder)\n",
        "import os\n",
        "os.mkdir(\"datascience\")\n",
        "\n"
      ],
      "metadata": {
        "id": "5HZS5cXZvPyj"
      },
      "execution_count": null,
      "outputs": []
    },
    {
      "cell_type": "code",
      "source": [
        "#rename folder\n",
        "os.rename(\"datascience\", \"dsdtudy\") #(oldname, new name)"
      ],
      "metadata": {
        "id": "r71EWVtDZdfE"
      },
      "execution_count": null,
      "outputs": []
    },
    {
      "cell_type": "code",
      "source": [
        "!mkdir guvi"
      ],
      "metadata": {
        "id": "geddBUWhv77T"
      },
      "execution_count": null,
      "outputs": []
    },
    {
      "cell_type": "code",
      "source": [
        "# remove directotr\n",
        "os.rmdir(\"dsdtudy\")"
      ],
      "metadata": {
        "id": "84MZ4AYEy3EY"
      },
      "execution_count": null,
      "outputs": []
    },
    {
      "cell_type": "code",
      "source": [
        "# \"x\" create  : will create file, return error if the file exist \n",
        "file1= open(\"ameenz.py\",\"x\")\n",
        "# \"w\" Write - will create a file if the specified file does not exist\n",
        "file1= open(\"adhilz.txt\", \"w\")\n"
      ],
      "metadata": {
        "id": "5WNvpJ459EWU"
      },
      "execution_count": null,
      "outputs": []
    },
    {
      "cell_type": "code",
      "source": [
        "# \"w\" Write - will create a file if the specified file does not exist\n",
        "file1= open(\"adhilz.txt\", \"w\")\n"
      ],
      "metadata": {
        "id": "18w4AV5BBC0i"
      },
      "execution_count": null,
      "outputs": []
    },
    {
      "cell_type": "code",
      "source": [
        "# Write to an existing file\n",
        "# to write to existing file, you must add a perameter to the open() function\n",
        "\n",
        "#\"a\" Append - will append to the end of the file\n",
        "#\"w\" write - will overwrite any existing content\n",
        "\n",
        "file1= open(\"adhilz.text\", \"a\")\n",
        "file1.write(\"i wil do this simpelly\")\n",
        "file1.close()\n",
        "\n",
        "# always you have to close the file\n"
      ],
      "metadata": {
        "id": "0ziq5XsPCbBo"
      },
      "execution_count": null,
      "outputs": []
    },
    {
      "cell_type": "code",
      "source": [
        "# remove file usinng keyword \"remove\"\n",
        "\n",
        "os.remove(\"mango.text\")"
      ],
      "metadata": {
        "id": "edGI5NCIcnF4"
      },
      "execution_count": null,
      "outputs": []
    },
    {
      "cell_type": "code",
      "source": [
        "# example task\n",
        "\n",
        "#open a file for overwirte  , it will replace existing data\n",
        "myfile= open(\"guvids.txt\", \"w\") \n",
        "\n",
        "x=(\"first line\\n\", \"second line\\n\", \"Third line\\n\",\"Forth linen\\n\")\n",
        "myfile.writelines(x)\n",
        "\n",
        "# Open file for read  \n",
        "myfile= open(\"guvids.txt\", \"r\")\n",
        "print(myfile.read())\n",
        "myfile.close()           #if close oly data will save\n",
        "  \n",
        "\n"
      ],
      "metadata": {
        "colab": {
          "base_uri": "https://localhost:8080/"
        },
        "id": "d0Rh9ZxNd_14",
        "outputId": "6409ec66-99b4-40a8-c7b8-ea73b1bf6572"
      },
      "execution_count": null,
      "outputs": [
        {
          "output_type": "stream",
          "name": "stdout",
          "text": [
            "first line\n",
            "second line\n",
            "Third line\n",
            "Forth linen\n",
            "\n"
          ]
        }
      ]
    },
    {
      "cell_type": "code",
      "source": [
        "# adding extra line to existing same file\n",
        "\n",
        "#open a file for add a new data to existing file via \"a\"\n",
        "myfile= open(\"guvids.txt\", \"a\")\n",
        "\n",
        "tx=(\"this is exra line8\\n\")\n",
        "myfile.writelines(tx)\n",
        "myfile.close()      #if close only data will save\n",
        "\n",
        "# Open file for read       #this shoud be here to print output of data\n",
        "myfile= open(\"guvids.txt\", \"r\")\n",
        "print(myfile.read())\n",
        "myfile.close()\n",
        "\n"
      ],
      "metadata": {
        "id": "oaTuINdkhn14",
        "colab": {
          "base_uri": "https://localhost:8080/"
        },
        "outputId": "9489baaf-bc50-4246-9b63-a553abab9a9b"
      },
      "execution_count": null,
      "outputs": [
        {
          "output_type": "stream",
          "name": "stdout",
          "text": [
            "first line\n",
            "second line\n",
            "Third line\n",
            "Forth linen\n",
            "this is exra line8\n",
            "this is exra line8\n",
            "this is exra line8\n",
            "this is exra line8\n",
            "\n"
          ]
        }
      ]
    },
    {
      "cell_type": "code",
      "source": [
        "# example Task\n",
        "\n",
        "name=input(\"Enert name: \")\n",
        "x=name.capitalize()\n",
        "\n",
        "file2=open(\"info.txt\",\"w\") \n",
        "file2.writelines(x)\n",
        "file2.close()       \n",
        "\n",
        "\n",
        "                       #onec complet first input only need to move second\n",
        "\n",
        "mob= input(\"Enert your Mobile no: \")\n",
        "\n",
        "if len(mob)==10:\n",
        "  file2=open(\"info.txt\",\"a\")\n",
        "  tx=(\"\\n\", mob)      #here newline after that mobile number \n",
        "  file2.writelines(tx)\n",
        "  file2.close() \n",
        "else:\n",
        "  print(\"Enter Correct No\")\n",
        "\n",
        "  \n",
        "file2= open(\"info.txt\", \"r\")  \n",
        "print(file2.read())\n",
        "file2.close()\n",
        "   \n",
        "\n"
      ],
      "metadata": {
        "id": "eDCU37asjT4w",
        "colab": {
          "base_uri": "https://localhost:8080/"
        },
        "outputId": "bcd5e4d3-d5d7-49cd-f300-cb7781f2166c"
      },
      "execution_count": null,
      "outputs": [
        {
          "output_type": "stream",
          "name": "stdout",
          "text": [
            "Enert name: fgdfgdg\n",
            "Enert your Mobile no: 0112233456\n",
            "Fgdfgdg\n",
            "0112233456\n"
          ]
        }
      ]
    },
    {
      "cell_type": "markdown",
      "source": [
        "## **PANDAS**"
      ],
      "metadata": {
        "id": "yoYz5m88PEeQ"
      }
    },
    {
      "cell_type": "code",
      "source": [
        "!pip install pandas\n"
      ],
      "metadata": {
        "id": "9COhE8jZ35mI",
        "colab": {
          "base_uri": "https://localhost:8080/"
        },
        "outputId": "c8be4e8c-1e63-4e77-898e-634738368930"
      },
      "execution_count": null,
      "outputs": [
        {
          "output_type": "stream",
          "name": "stdout",
          "text": [
            "Requirement already satisfied: pandas in /usr/local/lib/python3.7/dist-packages (1.1.5)\n",
            "Requirement already satisfied: numpy>=1.15.4 in /usr/local/lib/python3.7/dist-packages (from pandas) (1.19.5)\n",
            "Requirement already satisfied: pytz>=2017.2 in /usr/local/lib/python3.7/dist-packages (from pandas) (2018.9)\n",
            "Requirement already satisfied: python-dateutil>=2.7.3 in /usr/local/lib/python3.7/dist-packages (from pandas) (2.8.2)\n",
            "Requirement already satisfied: six>=1.5 in /usr/local/lib/python3.7/dist-packages (from python-dateutil>=2.7.3->pandas) (1.15.0)\n"
          ]
        }
      ]
    },
    {
      "cell_type": "code",
      "source": [
        "import pandas as azil  \n",
        "s= azil.Series\n",
        "print(s)"
      ],
      "metadata": {
        "colab": {
          "base_uri": "https://localhost:8080/"
        },
        "id": "HDp2H_WlQo5W",
        "outputId": "6699a18d-7729-4971-bd9d-a150d84c12e8"
      },
      "execution_count": null,
      "outputs": [
        {
          "output_type": "stream",
          "name": "stdout",
          "text": [
            "<class 'pandas.core.series.Series'>\n"
          ]
        }
      ]
    },
    {
      "cell_type": "code",
      "source": [
        "import pandas as azil  # this\"panda\" package/library is cannecting data set to python script from anywhere\n",
        "import numpy as nm\n",
        "data = nm.array([\"a\",\"b\",\"c\",\"d\",\"f\"])\n",
        "s= azil.Series(data)\n",
        "print(s)\n",
        " \n",
        "  \n",
        "# we did not pass any index , by defult it assining index"
      ],
      "metadata": {
        "id": "IxD1qq-GSFPt",
        "colab": {
          "base_uri": "https://localhost:8080/"
        },
        "outputId": "e45623c4-f677-469e-a047-be2710d62696"
      },
      "execution_count": null,
      "outputs": [
        {
          "output_type": "stream",
          "name": "stdout",
          "text": [
            "0    a\n",
            "1    b\n",
            "2    c\n",
            "3    d\n",
            "4    f\n",
            "dtype: object\n"
          ]
        }
      ]
    },
    {
      "cell_type": "code",
      "source": [
        "import pandas as azil  \n",
        "import numpy as nm                                \n",
        "data = nm.array([\"a\",\"b\",\"c\",\"d\",\"f\"])\n",
        "s= azil.Series(data,index=[100,101,102,103,104]) # index and areay data equal\n",
        "print(s)                                         # if not given index it start from 0 by defult\n",
        "\n",
        "# here converting arrys to Series\n",
        "# \"numpy\" used for scientifical culculation"
      ],
      "metadata": {
        "id": "Zzby9rtEXCZX",
        "colab": {
          "base_uri": "https://localhost:8080/"
        },
        "outputId": "1ce66c5f-9a21-438c-fd04-3f169a8221d2"
      },
      "execution_count": null,
      "outputs": [
        {
          "output_type": "stream",
          "name": "stdout",
          "text": [
            "100    a\n",
            "101    b\n",
            "102    c\n",
            "103    d\n",
            "104    f\n",
            "dtype: object\n"
          ]
        }
      ]
    },
    {
      "cell_type": "code",
      "source": [
        "import pandas as azil  \n",
        "import numpy as nm\n",
        "data = nm.array([\"ameen\",\"20\",\"mal\",\"yes\"])\n",
        "s= azil.Series(data,index=[\"Name\",\"Age\",\"Sex\",\"Married\"]) # can assin value\n",
        "print(s)"
      ],
      "metadata": {
        "id": "kaSX4HjxX7Ao",
        "colab": {
          "base_uri": "https://localhost:8080/"
        },
        "outputId": "0a2b95e9-fc79-4c8b-ca94-d1daeff8a783"
      },
      "execution_count": null,
      "outputs": [
        {
          "output_type": "stream",
          "name": "stdout",
          "text": [
            "Name       ameen\n",
            "Age           20\n",
            "Sex          mal\n",
            "Married      yes\n",
            "dtype: object\n"
          ]
        }
      ]
    },
    {
      "cell_type": "code",
      "source": [
        ""
      ],
      "metadata": {
        "id": "-XUNLL07mrG5"
      },
      "execution_count": null,
      "outputs": []
    },
    {
      "cell_type": "code",
      "source": [
        "import pandas as azil  \n",
        "import numpy as nm\n",
        "data = {'a':5.,'b':2.,'c':3.}\n",
        "s= azil.Series(data) # can assin value\n",
        "print(s)\n",
        "\n",
        "# here converting Dictionary to Series  without data"
      ],
      "metadata": {
        "colab": {
          "base_uri": "https://localhost:8080/"
        },
        "id": "bNDlkTp-aQ-z",
        "outputId": "a72816ca-b476-4d31-c697-ad8ff85ff122"
      },
      "execution_count": null,
      "outputs": [
        {
          "output_type": "stream",
          "name": "stdout",
          "text": [
            "a    5.0\n",
            "b    2.0\n",
            "c    3.0\n",
            "dtype: float64\n"
          ]
        }
      ]
    },
    {
      "cell_type": "code",
      "source": [
        "import pandas as azil  \n",
        "import numpy as nm\n",
        "data = {'a':3.,'b':1.,'c':7.}\n",
        "s= azil.Series(data,index=[\"Name\",\"Age\",\"Sex\"]) # can assin value\n",
        "print(s)\n",
        "\n",
        "# here converting Dictionary to Series "
      ],
      "metadata": {
        "colab": {
          "base_uri": "https://localhost:8080/"
        },
        "id": "6fVRqWIlcou4",
        "outputId": "ff4ea514-cd63-4840-f4f9-8b69c5841c34"
      },
      "execution_count": null,
      "outputs": [
        {
          "output_type": "stream",
          "name": "stdout",
          "text": [
            "Name   NaN\n",
            "Age    NaN\n",
            "Sex    NaN\n",
            "dtype: float64\n"
          ]
        }
      ]
    },
    {
      "cell_type": "code",
      "source": [
        "import pandas as azil\n",
        "s= azil.Series([1,2,3,4],index=[\"a\",\"b\",\"c\",\"d\"])\n",
        "\n",
        "print(s)\n",
        "print(s[\"a\"])  # retrieving a single elements"
      ],
      "metadata": {
        "id": "ZoXPWirvds-a",
        "colab": {
          "base_uri": "https://localhost:8080/"
        },
        "outputId": "63d73595-cef9-42d1-ec8a-a8b4b36ab694"
      },
      "execution_count": null,
      "outputs": [
        {
          "output_type": "stream",
          "name": "stdout",
          "text": [
            "a    1\n",
            "b    2\n",
            "c    3\n",
            "d    4\n",
            "dtype: int64\n",
            "1\n"
          ]
        }
      ]
    },
    {
      "cell_type": "code",
      "source": [
        "import pandas as azil\n",
        "import numpy as nm\n",
        "x = nm.array([1,2,3,4])\n",
        "s= azil.Series(x,index=[\"a\",\"b\",\"c\",\"d\"])\n",
        "\n",
        "print(s)\n",
        "print(s[\"a\"])  # same above cord\n",
        "\n",
        "\n",
        "\n",
        "# SINGLE squr brackets [] used for Series ans array\n",
        "\n",
        "# if use TWO squr brackets [[]] its for 2D array or Data framwork\n",
        "\n",
        "# if use THREE squr brackets [[[]] its for 3D Data\n",
        "\n",
        "# if use Four squr brackets [[[[]] its for 4D Data"
      ],
      "metadata": {
        "id": "iQdNqchwgP9A",
        "colab": {
          "base_uri": "https://localhost:8080/"
        },
        "outputId": "f96da67e-65d5-478a-cc9f-01a5c0abc8aa"
      },
      "execution_count": null,
      "outputs": [
        {
          "output_type": "stream",
          "name": "stdout",
          "text": [
            "a    1\n",
            "b    2\n",
            "c    3\n",
            "d    4\n",
            "dtype: int64\n",
            "1\n"
          ]
        }
      ]
    },
    {
      "cell_type": "code",
      "source": [
        "import pandas as azil\n",
        "s= azil.Series([1,2,3,4],index=[\"a\",\"b\",\"c\",\"d\"])\n",
        "\n",
        "print(s[[\"a\",\"c\",\"b\"]]) \n",
        "\n",
        " # retrieving a multipal elements \n",
        " # retrieving data no need to be in order"
      ],
      "metadata": {
        "id": "8pt2mZ_gi0d9",
        "colab": {
          "base_uri": "https://localhost:8080/"
        },
        "outputId": "fd77a048-8017-4c36-b6b8-4bed13c50142"
      },
      "execution_count": null,
      "outputs": [
        {
          "output_type": "stream",
          "name": "stdout",
          "text": [
            "a    1\n",
            "c    3\n",
            "b    2\n",
            "dtype: int64\n"
          ]
        }
      ]
    },
    {
      "cell_type": "markdown",
      "source": [
        ""
      ],
      "metadata": {
        "id": "cCHQPc0ShpVV"
      }
    },
    {
      "cell_type": "markdown",
      "source": [
        "## **DataFram**"
      ],
      "metadata": {
        "id": "tuyM6yS9mm4P"
      }
    },
    {
      "cell_type": "code",
      "source": [
        "#creating a DataFrame from List \n",
        "\n",
        "import pandas as azil\n",
        "mydata=[1,2,3,4,5]\n",
        "x=azil.DataFrame(mydata)\n",
        "print(x)"
      ],
      "metadata": {
        "id": "4OQs86f_mz-L"
      },
      "execution_count": null,
      "outputs": []
    },
    {
      "cell_type": "code",
      "source": [
        "#creating a DataFrame from List into list\n",
        "\n",
        "import pandas as azil\n",
        "datax=[[\"g1\",10],[\"g2\",20],[\"g3\",25]]\n",
        "df=azil.DataFrame (datax,columns=[\"Name\",\"Age\"]) \n",
        "print(df)\n",
        "\n",
        "#if not given index it will start from by defult\n",
        "#creating columns"
      ],
      "metadata": {
        "colab": {
          "base_uri": "https://localhost:8080/"
        },
        "id": "r3q9q0W6h8cH",
        "outputId": "df78a690-c536-403d-b536-028944453219"
      },
      "execution_count": null,
      "outputs": [
        {
          "output_type": "stream",
          "name": "stdout",
          "text": [
            "  Name  Age\n",
            "0   g1   10\n",
            "1   g2   20\n",
            "2   g3   25\n"
          ]
        }
      ]
    },
    {
      "cell_type": "code",
      "source": [
        "import pandas as azil\n",
        "datax=[[\"g1\",10],[\"g2\",20],[\"g3\",25]]\n",
        "df=azil.DataFrame(datax,index=[100,101,102],columns=[\"Name\",\"Age\"]) \n",
        "print(df)\n",
        "\n",
        "#if  given index it will start with given index"
      ],
      "metadata": {
        "id": "TZ0ntsx9pMjq",
        "colab": {
          "base_uri": "https://localhost:8080/"
        },
        "outputId": "d933e54e-cd5f-4f12-88e2-4cdc88d07299"
      },
      "execution_count": null,
      "outputs": [
        {
          "output_type": "stream",
          "name": "stdout",
          "text": [
            "    Name  Age\n",
            "100   g1   10\n",
            "101   g2   20\n",
            "102   g3   25\n"
          ]
        }
      ]
    },
    {
      "cell_type": "code",
      "source": [
        "# Task ********* 01\n",
        "\n",
        "import pandas as azil\n",
        "\n",
        "file3=open(\"datafile.txt\", \"w\")\n",
        "datax=[[\"g1\",10],[\"g2\",20],[\"g3\",25]]\n",
        "df=azil.DataFrame(datax,index=[100,101,102],columns=[\"Name\",\"Age\"]) \n",
        "file3.writable(dt)\n",
        "file3.close()\n",
        "\n",
        "file3=open(\"datafile.txt\", \"r\")\n",
        "print(file3.read())\n",
        "file3.close()"
      ],
      "metadata": {
        "id": "_M18k5ODlH3R"
      },
      "execution_count": null,
      "outputs": []
    },
    {
      "cell_type": "code",
      "source": [
        "# Data type converetion  # 1- implicit Convertion = autometiclly convert\n",
        "                         # 2- Explicit Convertion = specificly mentio the Data Type\n",
        "\n",
        "\n",
        "import pandas as azil  \n",
        "import numpy as nm\n",
        "data = {'a':3.,'b':1.,'c':7.}\n",
        "s= azil.Series(data,index=[\"Name\",\"Age\",\"Sex\"]) \n",
        "print(s)\n",
        "\n",
        "# series is Hommoginious\n",
        "# this took place autometically converted as FloatType"
      ],
      "metadata": {
        "colab": {
          "base_uri": "https://localhost:8080/"
        },
        "id": "_ij0gaztmtB6",
        "outputId": "b46a77c0-65bf-4c94-c44c-fd3b830d8851"
      },
      "execution_count": null,
      "outputs": [
        {
          "output_type": "stream",
          "name": "stdout",
          "text": [
            "Name   NaN\n",
            "Age    NaN\n",
            "Sex    NaN\n",
            "dtype: float64\n"
          ]
        }
      ]
    },
    {
      "cell_type": "code",
      "source": [
        " # 2. Explicit Convertion = specificly mentio the Data Type\n",
        "\n",
        "import pandas as azil\n",
        "datax=[[\"g1\",10.],[\"g2\",20.],[\"g3\",25.]]\n",
        "df=azil.DataFrame(datax,index=[100,101,102],columns=[\"Name\",\"Age\"],dtype=float) \n",
        "print(df)\n",
        "\n",
        "#given data also shoud be float Type"
      ],
      "metadata": {
        "id": "1BqMbr5zqbFt"
      },
      "execution_count": null,
      "outputs": []
    },
    {
      "cell_type": "code",
      "source": [
        "# Creating DtataFram from Dictionary of arrays/List\n",
        "\n",
        "import pandas as azil\n",
        "datax={\"Name\":[\"ameen\",\"juma\",\"kareem\"], \"Age\":[25,30,15]}\n",
        "df=azil.DataFrame(datax)\n",
        "print(df)\n"
      ],
      "metadata": {
        "id": "DDRGWtz4vULg"
      },
      "execution_count": null,
      "outputs": []
    },
    {
      "cell_type": "code",
      "source": [
        "# creating a DataFrme with passing a dic of lists to DataFrame constructor\n",
        "\n",
        "import pandas as azil\n",
        "\n",
        "sportdata = {\n",
        "         \"Year\":[2010,2011,2012,2011,2012,2010,2011,2012],\n",
        "         \"team\":[\"CSK\",\"MI\",\"MI\",\"SRH\",\"KKR\",\"CSK\",\"CSK\",\"CSK\"],\n",
        "         \"wins\":[11,8,10,15,11,6,10,4],\n",
        "         \"losses\":[5,8,6,1,5,10,6,12]}\n",
        "\n",
        "ipl=azil.DataFrame(sportdata)\n",
        "print(ipl)\n",
        "\n",
        "print(ipl.dtypes)     # data Type\n",
        "print(ipl.describe()) # specially work this on Numerical datatype \n",
        "                      # std =  Standed Deviation ==Veriation\n",
        "                      # precentage on this lis (25%,50%75%) = IQR inter Quatel Range\n",
        "print(ipl.info())     # Data Type\n",
        "\n",
        "print(ipl.boxplot())  #ploting\n",
        "\n",
        "print(ipl.plot.line(y=\"wins\"))\n",
        "\n",
        "print(ipl.hist(bins=3))\n",
        "print(ipl.head(5)) # To get general pic of data\n",
        "print(ipl.tail(3))\n",
        "\n",
        "\n"
      ],
      "metadata": {
        "id": "mRbjuMTtw1dW"
      },
      "execution_count": null,
      "outputs": []
    },
    {
      "cell_type": "code",
      "source": [
        "print(ipl.shape) # it mean How many numbers of Row & Colomn\n",
        "print(ipl.size)  # How many data there in table\n",
        "print(ipl.sort_values(by=[\"wins\"],ascending=False)) # top winners\n",
        "\n",
        "print(ipl.to_csv(\"ds.csv\")) # export file as csv file\n"
      ],
      "metadata": {
        "colab": {
          "base_uri": "https://localhost:8080/"
        },
        "id": "NWaA6UmRAvg9",
        "outputId": "518fb06c-8420-4527-df96-f08228e7d340"
      },
      "execution_count": null,
      "outputs": [
        {
          "output_type": "stream",
          "name": "stdout",
          "text": [
            "(8, 4)\n",
            "32\n",
            "   Year team  wins  losses\n",
            "3  2011  SRH    15       1\n",
            "0  2010  CSK    11       5\n",
            "4  2012  KKR    11       5\n",
            "2  2012   MI    10       6\n",
            "6  2011  CSK    10       6\n",
            "1  2011   MI     8       8\n",
            "5  2010  CSK     6      10\n",
            "7  2012  CSK     4      12\n",
            "None\n"
          ]
        }
      ]
    },
    {
      "cell_type": "markdown",
      "source": [
        ""
      ],
      "metadata": {
        "id": "QXDsFuDH8OU4"
      }
    },
    {
      "cell_type": "code",
      "source": [
        "# Data Types    1 Catergerical\n",
        "              # 2 Numerical\n"
      ],
      "metadata": {
        "id": "3_D2NsPo1S1Q"
      },
      "execution_count": null,
      "outputs": []
    }
  ]
}